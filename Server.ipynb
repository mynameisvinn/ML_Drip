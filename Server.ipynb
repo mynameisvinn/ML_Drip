{
 "cells": [
  {
   "cell_type": "markdown",
   "metadata": {},
   "source": [
    "# 1) train a classifier"
   ]
  },
  {
   "cell_type": "code",
   "execution_count": 1,
   "metadata": {},
   "outputs": [],
   "source": [
    "from sklearn import datasets\n",
    "from sklearn.model_selection import train_test_split\n",
    "from sklearn.ensemble import RandomForestClassifier\n",
    "import pandas as pd\n",
    "from sklearn import metrics"
   ]
  },
  {
   "cell_type": "code",
   "execution_count": 2,
   "metadata": {},
   "outputs": [
    {
     "name": "stdout",
     "output_type": "stream",
     "text": [
      "Accuracy: 0.9777777777777777\n"
     ]
    }
   ],
   "source": [
    "iris = datasets.load_iris()\n",
    "\n",
    "data=pd.DataFrame({\n",
    "    'sepal length':iris.data[:,0],\n",
    "    'sepal width':iris.data[:,1],\n",
    "    'petal length':iris.data[:,2],\n",
    "    'petal width':iris.data[:,3],\n",
    "    'species':iris.target\n",
    "})\n",
    "data.head()\n",
    "\n",
    "\n",
    "X=data[['sepal length', 'sepal width', 'petal length', 'petal width']]  # Features\n",
    "y=data['species']  # Labels\n",
    "\n",
    "# Split dataset into training set and test set\n",
    "X_train, X_test, y_train, y_test = train_test_split(X, y, test_size=0.3) \n",
    "\n",
    "\n",
    "\n",
    "#Create a Gaussian Classifier\n",
    "clf=RandomForestClassifier(n_estimators=100)\n",
    "\n",
    "#Train the model using the training sets y_pred=clf.predict(X_test)\n",
    "clf.fit(X_train,y_train)\n",
    "\n",
    "y_pred=clf.predict(X_test)\n",
    "\n",
    "\n",
    "# Model Accuracy, how often is the classifier correct?\n",
    "print(\"Accuracy:\",metrics.accuracy_score(y_test, y_pred))"
   ]
  },
  {
   "cell_type": "markdown",
   "metadata": {},
   "source": [
    "# 2) Server"
   ]
  },
  {
   "cell_type": "code",
   "execution_count": 3,
   "metadata": {},
   "outputs": [],
   "source": [
    "# https://stackoverflow.com/questions/32189741/sending-json-string-to-cherrypy\n",
    "\n",
    "import random\n",
    "import string\n",
    "import json\n",
    "import cherrypy\n",
    "\n",
    "import numpy as np\n",
    "\n",
    "\n",
    "class ML_Server(object):\n",
    "    \n",
    "    def __init__(self, f):\n",
    "        self.f = f\n",
    "\n",
    "        class HelloJson(object):\n",
    "            \n",
    "            @cherrypy.expose\n",
    "            @cherrypy.tools.json_in()\n",
    "            def default(self):\n",
    "                data = cherrypy.request.json\n",
    "                d = json.loads(data)\n",
    "                print(f.predict([np.array(d['Hello'])]))\n",
    "                return \"Hello world!\"\n",
    "                \n",
    "        cherrypy.config.update({'server.socket_port':8080})\n",
    "        cherrypy.quickstart(HelloJson())"
   ]
  },
  {
   "cell_type": "code",
   "execution_count": null,
   "metadata": {},
   "outputs": [
    {
     "name": "stderr",
     "output_type": "stream",
     "text": [
      "[13/Nov/2020:07:52:16] ENGINE Listening for SIGTERM.\n",
      "[13/Nov/2020:07:52:16] ENGINE Listening for SIGHUP.\n",
      "[13/Nov/2020:07:52:16] ENGINE Listening for SIGUSR1.\n",
      "[13/Nov/2020:07:52:16] ENGINE Bus STARTING\n",
      "CherryPy Checker:\n",
      "The Application mounted at '' has an empty config.\n",
      "\n",
      "[13/Nov/2020:07:52:16] ENGINE Started monitor thread 'Autoreloader'.\n",
      "[13/Nov/2020:07:52:16] ENGINE Serving on http://127.0.0.1:8080\n",
      "[13/Nov/2020:07:52:16] ENGINE Bus STARTED\n"
     ]
    }
   ],
   "source": [
    "api = ML_Server(clf)"
   ]
  },
  {
   "cell_type": "code",
   "execution_count": null,
   "metadata": {},
   "outputs": [],
   "source": []
  }
 ],
 "metadata": {
  "kernelspec": {
   "display_name": "Python 3",
   "language": "python",
   "name": "python3"
  },
  "language_info": {
   "codemirror_mode": {
    "name": "ipython",
    "version": 3
   },
   "file_extension": ".py",
   "mimetype": "text/x-python",
   "name": "python",
   "nbconvert_exporter": "python",
   "pygments_lexer": "ipython3",
   "version": "3.8.3"
  }
 },
 "nbformat": 4,
 "nbformat_minor": 4
}
