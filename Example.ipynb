{
 "cells": [
  {
   "cell_type": "markdown",
   "metadata": {},
   "source": [
    "# 1) fit an estimator"
   ]
  },
  {
   "cell_type": "code",
   "execution_count": 1,
   "metadata": {},
   "outputs": [],
   "source": [
    "from sklearn import datasets\n",
    "from sklearn.model_selection import train_test_split\n",
    "from sklearn.ensemble import RandomForestClassifier\n",
    "import pandas as pd\n",
    "from sklearn import metrics"
   ]
  },
  {
   "cell_type": "code",
   "execution_count": 2,
   "metadata": {},
   "outputs": [
    {
     "name": "stdout",
     "output_type": "stream",
     "text": [
      "Accuracy: 0.9333333333333333\n"
     ]
    }
   ],
   "source": [
    "iris = datasets.load_iris()\n",
    "\n",
    "data = pd.DataFrame({\n",
    "    'sepal length': iris.data[:,0],\n",
    "    'sepal width': iris.data[:,1],\n",
    "    'petal length': iris.data[:,2],\n",
    "    'petal width': iris.data[:,3],\n",
    "    'species': iris.target\n",
    "})\n",
    "\n",
    "X = data[['sepal length', 'sepal width', 'petal length', 'petal width']]\n",
    "y = data['species']\n",
    "\n",
    "X_train, X_test, y_train, y_test = train_test_split(X, y, test_size=0.3) \n",
    "\n",
    "clf = RandomForestClassifier(n_estimators=100)\n",
    "clf.fit(X_train,y_train)\n",
    "y_pred=clf.predict(X_test)\n",
    "print(\"Accuracy:\",metrics.accuracy_score(y_test, y_pred))"
   ]
  },
  {
   "cell_type": "markdown",
   "metadata": {},
   "source": [
    "# 2) Deploy estimator with Drip"
   ]
  },
  {
   "cell_type": "code",
   "execution_count": 11,
   "metadata": {},
   "outputs": [],
   "source": [
    "from Drip import Drip"
   ]
  },
  {
   "cell_type": "code",
   "execution_count": 12,
   "metadata": {},
   "outputs": [
    {
     "name": "stderr",
     "output_type": "stream",
     "text": [
      "[13/Nov/2020:10:38:18] ENGINE Listening for SIGTERM.\n",
      "[13/Nov/2020:10:38:18] ENGINE Listening for SIGHUP.\n",
      "[13/Nov/2020:10:38:18] ENGINE Listening for SIGUSR1.\n",
      "[13/Nov/2020:10:38:18] ENGINE Bus STARTING\n",
      "CherryPy Checker:\n",
      "The Application mounted at '' has an empty config.\n",
      "\n",
      "[13/Nov/2020:10:38:18] ENGINE Started monitor thread 'Autoreloader'.\n",
      "[13/Nov/2020:10:38:18] ENGINE Serving on http://127.0.0.1:8080\n",
      "[13/Nov/2020:10:38:18] ENGINE Bus STARTED\n"
     ]
    },
    {
     "name": "stdout",
     "output_type": "stream",
     "text": [
      "[0]\n",
      "127.0.0.1 - - [13/Nov/2020:10:38:21] \"POST / HTTP/1.1\" 200 8 \"\" \"python-requests/2.24.0\"\n"
     ]
    },
    {
     "name": "stderr",
     "output_type": "stream",
     "text": [
      "[13/Nov/2020:10:38:23] ENGINE Keyboard Interrupt: shutting down bus\n",
      "[13/Nov/2020:10:38:23] ENGINE Bus STOPPING\n",
      "[13/Nov/2020:10:38:24] ENGINE HTTP Server cherrypy._cpwsgi_server.CPWSGIServer(('127.0.0.1', 8080)) shut down\n",
      "[13/Nov/2020:10:38:24] ENGINE Stopped thread 'Autoreloader'.\n",
      "[13/Nov/2020:10:38:24] ENGINE Bus STOPPED\n",
      "[13/Nov/2020:10:38:24] ENGINE Bus EXITING\n",
      "[13/Nov/2020:10:38:24] ENGINE Bus EXITED\n",
      "[13/Nov/2020:10:38:24] ENGINE Waiting for child threads to terminate...\n"
     ]
    }
   ],
   "source": [
    "api = Drip(clf, port=8080)"
   ]
  },
  {
   "cell_type": "code",
   "execution_count": null,
   "metadata": {},
   "outputs": [],
   "source": []
  }
 ],
 "metadata": {
  "kernelspec": {
   "display_name": "Python 3",
   "language": "python",
   "name": "python3"
  },
  "language_info": {
   "codemirror_mode": {
    "name": "ipython",
    "version": 3
   },
   "file_extension": ".py",
   "mimetype": "text/x-python",
   "name": "python",
   "nbconvert_exporter": "python",
   "pygments_lexer": "ipython3",
   "version": "3.8.3"
  }
 },
 "nbformat": 4,
 "nbformat_minor": 4
}
